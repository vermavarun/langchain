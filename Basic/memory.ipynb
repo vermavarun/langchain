{
 "cells": [
  {
   "cell_type": "code",
   "execution_count": null,
   "metadata": {},
   "outputs": [],
   "source": [
    "import os\n",
    "from langchain.llms import OpenAI\n",
    "os.environ['OPENAI_API_KEY'] = ''\n",
    "llm = OpenAI(temperature = 0.6)"
   ]
  },
  {
   "cell_type": "code",
   "execution_count": null,
   "metadata": {},
   "outputs": [],
   "source": [
    "from langchain.chains import LLMChain\n",
    "from langchain.prompts import PromptTemplate\n",
    "prompt_template_about = PromptTemplate(\n",
    "    input_variables=['name'],\n",
    "    template=\"Who is {name}'s wife?\"\n",
    ")\n",
    "from langchain.memory import ConversationBufferMemory\n",
    "memory = ConversationBufferMemory()\n",
    "\n",
    "about_chain = LLMChain(llm=llm, prompt=prompt_template_about,memory=memory)\n",
    "wife_name = about_chain.run(\"SRK\")\n",
    "print(wife_name)\n",
    "print(about_chain.memory.buffer)"
   ]
  },
  {
   "cell_type": "code",
   "execution_count": null,
   "metadata": {},
   "outputs": [],
   "source": [
    "from langchain.chains import ConversationChain\n",
    "convo =ConversationChain(llm=OpenAI(temperature=0.7))\n",
    "print(convo.prompt.template)\n",
    "convo.run(\"Who won the first cricket world cup?\")\n",
    "convo.run(\"What is 5+5?\")\n",
    "convo.run(\"Who was the captain of winning team?\")\n",
    "print(convo.memory)\n"
   ]
  },
  {
   "cell_type": "code",
   "execution_count": 8,
   "metadata": {},
   "outputs": [
    {
     "name": "stdout",
     "output_type": "stream",
     "text": [
      "chat_memory=ChatMessageHistory(messages=[HumanMessage(content='Who won the first cricket world cup?'), AIMessage(content=' The first Cricket World Cup was held in 1975 and was won by the West Indies.'), HumanMessage(content='What is 5+5?'), AIMessage(content=' 10.'), HumanMessage(content='Who was the captain of winning team?'), AIMessage(content=\" I'm sorry, I don't know.\")]) k=1\n"
     ]
    }
   ],
   "source": [
    "from langchain.memory import ConversationBufferWindowMemory\n",
    "memory = ConversationBufferWindowMemory(k=1) # 1 means only send last m1 conversation messages to save the cost\n",
    "\n",
    "convo = ConversationChain(llm=OpenAI(temperature=0.6),memory=memory)\n",
    "convo.run(\"Who won the first cricket world cup?\")\n",
    "convo.run(\"What is 5+5?\")\n",
    "convo.run(\"Who was the captain of winning team?\")\n",
    "print(convo.memory)\n"
   ]
  }
 ],
 "metadata": {
  "kernelspec": {
   "display_name": "Basic",
   "language": "python",
   "name": "python3"
  },
  "language_info": {
   "codemirror_mode": {
    "name": "ipython",
    "version": 3
   },
   "file_extension": ".py",
   "mimetype": "text/x-python",
   "name": "python",
   "nbconvert_exporter": "python",
   "pygments_lexer": "ipython3",
   "version": "3.9.2"
  }
 },
 "nbformat": 4,
 "nbformat_minor": 2
}
